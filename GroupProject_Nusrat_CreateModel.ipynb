{
 "cells": [
  {
   "cell_type": "code",
   "execution_count": 27,
   "id": "e5b749a7",
   "metadata": {
    "id": "e5b749a7"
   },
   "outputs": [],
   "source": [
    "import pandas as pd\n",
    "import matplotlib.pyplot as plt\n",
    "import seaborn as sns\n",
    "from sklearn.metrics import accuracy_score\n",
    "from sklearn.ensemble import RandomForestClassifier\n",
    "from sklearn.model_selection import train_test_split\n",
    "from sklearn.preprocessing import MinMaxScaler\n",
    "from sklearn.metrics import accuracy_score\n",
    "from sklearn.metrics import confusion_matrix, ConfusionMatrixDisplay\n",
    "from sklearn.metrics import classification_report\n",
    "import pickle"
   ]
  },
  {
   "cell_type": "code",
   "execution_count": 28,
   "id": "a3fa4083",
   "metadata": {
    "id": "a3fa4083"
   },
   "outputs": [],
   "source": [
    "import pandas as pd\n",
    "#data1 = pd.read_csv('/content/sample_data/penguins.csv')\n",
    "data1 = pd.read_csv('penguins.csv')"
   ]
  },
  {
   "cell_type": "code",
   "execution_count": 29,
   "id": "416181b9",
   "metadata": {
    "id": "416181b9",
    "outputId": "584541ae-580a-409b-c39c-0fbf3657fa97"
   },
   "outputs": [
    {
     "data": {
      "text/plain": [
       "Index(['species', 'island', 'bill_length_mm', 'bill_depth_mm',\n",
       "       'flipper_length_mm', 'body_mass_g', 'sex', 'year'],\n",
       "      dtype='object')"
      ]
     },
     "execution_count": 29,
     "metadata": {},
     "output_type": "execute_result"
    }
   ],
   "source": [
    "data1.columns"
   ]
  },
  {
   "cell_type": "code",
   "execution_count": 30,
   "id": "392db2ad",
   "metadata": {},
   "outputs": [],
   "source": [
    "#rename columns\n",
    "data1 = data1.rename(columns={'species':'Species','island':'Island','bill_length_mm': 'Bill Length', 'bill_depth_mm': 'Bill Depth','flipper_length_mm': 'Flipper Length','body_mass_g': 'Body Mass','sex':'Sex','year':'Year'})"
   ]
  },
  {
   "cell_type": "code",
   "execution_count": 31,
   "id": "2c368a13",
   "metadata": {
    "id": "2c368a13",
    "outputId": "9d078927-8adc-4148-e902-ab2c5a4d862f",
    "scrolled": true
   },
   "outputs": [
    {
     "data": {
      "text/html": [
       "<div>\n",
       "<style scoped>\n",
       "    .dataframe tbody tr th:only-of-type {\n",
       "        vertical-align: middle;\n",
       "    }\n",
       "\n",
       "    .dataframe tbody tr th {\n",
       "        vertical-align: top;\n",
       "    }\n",
       "\n",
       "    .dataframe thead th {\n",
       "        text-align: right;\n",
       "    }\n",
       "</style>\n",
       "<table border=\"1\" class=\"dataframe\">\n",
       "  <thead>\n",
       "    <tr style=\"text-align: right;\">\n",
       "      <th></th>\n",
       "      <th>Species</th>\n",
       "      <th>Island</th>\n",
       "      <th>Bill Length</th>\n",
       "      <th>Bill Depth</th>\n",
       "      <th>Flipper Length</th>\n",
       "      <th>Body Mass</th>\n",
       "      <th>Sex</th>\n",
       "      <th>Year</th>\n",
       "    </tr>\n",
       "  </thead>\n",
       "  <tbody>\n",
       "    <tr>\n",
       "      <th>0</th>\n",
       "      <td>Adelie</td>\n",
       "      <td>Torgersen</td>\n",
       "      <td>39.1</td>\n",
       "      <td>18.7</td>\n",
       "      <td>181.0</td>\n",
       "      <td>3750.0</td>\n",
       "      <td>male</td>\n",
       "      <td>2007</td>\n",
       "    </tr>\n",
       "    <tr>\n",
       "      <th>1</th>\n",
       "      <td>Adelie</td>\n",
       "      <td>Torgersen</td>\n",
       "      <td>39.5</td>\n",
       "      <td>17.4</td>\n",
       "      <td>186.0</td>\n",
       "      <td>3800.0</td>\n",
       "      <td>female</td>\n",
       "      <td>2007</td>\n",
       "    </tr>\n",
       "    <tr>\n",
       "      <th>2</th>\n",
       "      <td>Adelie</td>\n",
       "      <td>Torgersen</td>\n",
       "      <td>40.3</td>\n",
       "      <td>18.0</td>\n",
       "      <td>195.0</td>\n",
       "      <td>3250.0</td>\n",
       "      <td>female</td>\n",
       "      <td>2007</td>\n",
       "    </tr>\n",
       "    <tr>\n",
       "      <th>3</th>\n",
       "      <td>Adelie</td>\n",
       "      <td>Torgersen</td>\n",
       "      <td>NaN</td>\n",
       "      <td>NaN</td>\n",
       "      <td>NaN</td>\n",
       "      <td>NaN</td>\n",
       "      <td>NaN</td>\n",
       "      <td>2007</td>\n",
       "    </tr>\n",
       "    <tr>\n",
       "      <th>4</th>\n",
       "      <td>Adelie</td>\n",
       "      <td>Torgersen</td>\n",
       "      <td>36.7</td>\n",
       "      <td>19.3</td>\n",
       "      <td>193.0</td>\n",
       "      <td>3450.0</td>\n",
       "      <td>female</td>\n",
       "      <td>2007</td>\n",
       "    </tr>\n",
       "  </tbody>\n",
       "</table>\n",
       "</div>"
      ],
      "text/plain": [
       "  Species     Island  Bill Length  Bill Depth  Flipper Length  Body Mass  \\\n",
       "0  Adelie  Torgersen         39.1        18.7           181.0     3750.0   \n",
       "1  Adelie  Torgersen         39.5        17.4           186.0     3800.0   \n",
       "2  Adelie  Torgersen         40.3        18.0           195.0     3250.0   \n",
       "3  Adelie  Torgersen          NaN         NaN             NaN        NaN   \n",
       "4  Adelie  Torgersen         36.7        19.3           193.0     3450.0   \n",
       "\n",
       "      Sex  Year  \n",
       "0    male  2007  \n",
       "1  female  2007  \n",
       "2  female  2007  \n",
       "3     NaN  2007  \n",
       "4  female  2007  "
      ]
     },
     "execution_count": 31,
     "metadata": {},
     "output_type": "execute_result"
    }
   ],
   "source": [
    "data1.head()"
   ]
  },
  {
   "cell_type": "code",
   "execution_count": 32,
   "id": "7333c816",
   "metadata": {},
   "outputs": [
    {
     "data": {
      "text/plain": [
       "Text(0, 0.5, 'Body Mass')"
      ]
     },
     "execution_count": 32,
     "metadata": {},
     "output_type": "execute_result"
    },
    {
     "data": {
      "image/png": "[encoded data removed]",
      "text/plain": [
       "<Figure size 432x288 with 1 Axes>"
      ]
     },
     "metadata": {
      "needs_background": "light"
     },
     "output_type": "display_data"
    }
   ],
   "source": [
    "#data = penguins,\n",
    "g = sns.boxplot(x = 'Island',\n",
    "            y ='Body Mass',\n",
    "            hue = 'Species',\n",
    "            data = data1,\n",
    "            palette=['#FF8C00','#159090','#A034F0'],\n",
    "            linewidth=0.3)\n",
    "g.set_xlabel('Island')\n",
    "g.set_ylabel('Body Mass')"
   ]
  },
  {
   "cell_type": "code",
   "execution_count": 33,
   "id": "0471f2a4",
   "metadata": {},
   "outputs": [
    {
     "data": {
      "text/plain": [
       "<seaborn.axisgrid.FacetGrid at 0x20511eb3c10>"
      ]
     },
     "execution_count": 33,
     "metadata": {},
     "output_type": "execute_result"
    },
    {
     "data": {
      "image/png": "[encoded data removed]",
      "text/plain": [
       "<Figure size 588.125x504 with 1 Axes>"
      ]
     },
     "metadata": {
      "needs_background": "light"
     },
     "output_type": "display_data"
    }
   ],
   "source": [
    "g = sns.lmplot(x=\"Flipper Length\",\n",
    "               y=\"Body Mass\",\n",
    "               hue=\"Species\",\n",
    "               height=7,\n",
    "               data=data1,\n",
    "               palette=['#FF8C00','#159090','#A034F0'])\n",
    "g.set_xlabels('Flipper Length')\n",
    "g.set_ylabels('Body Mass')"
   ]
  },
  {
   "cell_type": "code",
   "execution_count": 121,
   "id": "Wx_lojk6s1FD",
   "metadata": {
    "id": "Wx_lojk6s1FD"
   },
   "outputs": [
    {
     "data": {
      "text/html": [
       "<div>\n",
       "<style scoped>\n",
       "    .dataframe tbody tr th:only-of-type {\n",
       "        vertical-align: middle;\n",
       "    }\n",
       "\n",
       "    .dataframe tbody tr th {\n",
       "        vertical-align: top;\n",
       "    }\n",
       "\n",
       "    .dataframe thead th {\n",
       "        text-align: right;\n",
       "    }\n",
       "</style>\n",
       "<table border=\"1\" class=\"dataframe\">\n",
       "  <thead>\n",
       "    <tr style=\"text-align: right;\">\n",
       "      <th></th>\n",
       "      <th>Species</th>\n",
       "      <th>Island</th>\n",
       "      <th>Bill Length</th>\n",
       "      <th>Bill Depth</th>\n",
       "      <th>Flipper Length</th>\n",
       "      <th>Body Mass</th>\n",
       "      <th>Sex</th>\n",
       "      <th>Year</th>\n",
       "    </tr>\n",
       "  </thead>\n",
       "  <tbody>\n",
       "    <tr>\n",
       "      <th>339</th>\n",
       "      <td>Chinstrap</td>\n",
       "      <td>Dream</td>\n",
       "      <td>55.8</td>\n",
       "      <td>19.8</td>\n",
       "      <td>207.0</td>\n",
       "      <td>4000.0</td>\n",
       "      <td>male</td>\n",
       "      <td>2009</td>\n",
       "    </tr>\n",
       "    <tr>\n",
       "      <th>340</th>\n",
       "      <td>Chinstrap</td>\n",
       "      <td>Dream</td>\n",
       "      <td>43.5</td>\n",
       "      <td>18.1</td>\n",
       "      <td>202.0</td>\n",
       "      <td>3400.0</td>\n",
       "      <td>female</td>\n",
       "      <td>2009</td>\n",
       "    </tr>\n",
       "    <tr>\n",
       "      <th>341</th>\n",
       "      <td>Chinstrap</td>\n",
       "      <td>Dream</td>\n",
       "      <td>49.6</td>\n",
       "      <td>18.2</td>\n",
       "      <td>193.0</td>\n",
       "      <td>3775.0</td>\n",
       "      <td>male</td>\n",
       "      <td>2009</td>\n",
       "    </tr>\n",
       "    <tr>\n",
       "      <th>342</th>\n",
       "      <td>Chinstrap</td>\n",
       "      <td>Dream</td>\n",
       "      <td>50.8</td>\n",
       "      <td>19.0</td>\n",
       "      <td>210.0</td>\n",
       "      <td>4100.0</td>\n",
       "      <td>male</td>\n",
       "      <td>2009</td>\n",
       "    </tr>\n",
       "    <tr>\n",
       "      <th>343</th>\n",
       "      <td>Chinstrap</td>\n",
       "      <td>Dream</td>\n",
       "      <td>50.2</td>\n",
       "      <td>18.7</td>\n",
       "      <td>198.0</td>\n",
       "      <td>3775.0</td>\n",
       "      <td>female</td>\n",
       "      <td>2009</td>\n",
       "    </tr>\n",
       "  </tbody>\n",
       "</table>\n",
       "</div>"
      ],
      "text/plain": [
       "       Species Island  Bill Length  Bill Depth  Flipper Length  Body Mass  \\\n",
       "339  Chinstrap  Dream         55.8        19.8           207.0     4000.0   \n",
       "340  Chinstrap  Dream         43.5        18.1           202.0     3400.0   \n",
       "341  Chinstrap  Dream         49.6        18.2           193.0     3775.0   \n",
       "342  Chinstrap  Dream         50.8        19.0           210.0     4100.0   \n",
       "343  Chinstrap  Dream         50.2        18.7           198.0     3775.0   \n",
       "\n",
       "        Sex  Year  \n",
       "339    male  2009  \n",
       "340  female  2009  \n",
       "341    male  2009  \n",
       "342    male  2009  \n",
       "343  female  2009  "
      ]
     },
     "execution_count": 121,
     "metadata": {},
     "output_type": "execute_result"
    }
   ],
   "source": [
    "data1.tail()"
   ]
  },
  {
   "cell_type": "code",
   "execution_count": 122,
   "id": "d433bc35",
   "metadata": {
    "id": "d433bc35",
    "outputId": "eb94b5c0-f192-4ae9-9ab2-38c26ce92081"
   },
   "outputs": [
    {
     "data": {
      "text/plain": [
       "(344, 8)"
      ]
     },
     "execution_count": 122,
     "metadata": {},
     "output_type": "execute_result"
    }
   ],
   "source": [
    "data1.shape"
   ]
  },
  {
   "cell_type": "code",
   "execution_count": 123,
   "id": "123ab4df",
   "metadata": {},
   "outputs": [
    {
     "name": "stdout",
     "output_type": "stream",
     "text": [
      "Species            0\n",
      "Island             0\n",
      "Bill Length        2\n",
      "Bill Depth         2\n",
      "Flipper Length     2\n",
      "Body Mass          2\n",
      "Sex               11\n",
      "Year               0\n",
      "dtype: int64\n"
     ]
    }
   ],
   "source": [
    "# Check for null values\n",
    "print(len(data1) - data1.count())"
   ]
  },
  {
   "cell_type": "code",
   "execution_count": 124,
   "id": "ede55d73",
   "metadata": {},
   "outputs": [],
   "source": [
    "data1 = data1.dropna()"
   ]
  },
  {
   "cell_type": "code",
   "execution_count": 125,
   "id": "17cbfd14",
   "metadata": {},
   "outputs": [
    {
     "name": "stdout",
     "output_type": "stream",
     "text": [
      "Species           0\n",
      "Island            0\n",
      "Bill Length       0\n",
      "Bill Depth        0\n",
      "Flipper Length    0\n",
      "Body Mass         0\n",
      "Sex               0\n",
      "Year              0\n",
      "dtype: int64\n"
     ]
    }
   ],
   "source": [
    "# Check for null values\n",
    "print(len(data1) - data1.count())"
   ]
  },
  {
   "cell_type": "code",
   "execution_count": 126,
   "id": "bf5aec5a",
   "metadata": {},
   "outputs": [
    {
     "data": {
      "text/plain": [
       "(333, 8)"
      ]
     },
     "execution_count": 126,
     "metadata": {},
     "output_type": "execute_result"
    }
   ],
   "source": [
    "data1.shape"
   ]
  },
  {
   "cell_type": "code",
   "execution_count": 127,
   "id": "3638aac8",
   "metadata": {},
   "outputs": [
    {
     "data": {
      "text/plain": [
       "<AxesSubplot:>"
      ]
     },
     "execution_count": 127,
     "metadata": {},
     "output_type": "execute_result"
    },
    {
     "data": {
      "image/png": "[encoded data removed]",
      "text/plain": [
       "<Figure size 432x288 with 1 Axes>"
      ]
     },
     "metadata": {
      "needs_background": "light"
     },
     "output_type": "display_data"
    }
   ],
   "source": [
    "# Boxplot for Visualization\n",
    "sns.boxplot(data = x_train)"
   ]
  },
  {
   "cell_type": "code",
   "execution_count": 128,
   "id": "fb61c222",
   "metadata": {},
   "outputs": [
    {
     "name": "stdout",
     "output_type": "stream",
     "text": [
      "normTrainX (266, 9)\n"
     ]
    }
   ],
   "source": [
    "# Scaling using Normalization\n",
    "min_max_scaler = MinMaxScaler().fit(x_train)\n",
    "normTrainX = min_max_scaler.transform(x_train)\n",
    "print('normTrainX', normTrainX.shape)"
   ]
  },
  {
   "cell_type": "code",
   "execution_count": 129,
   "id": "fc5cae0b",
   "metadata": {},
   "outputs": [
    {
     "data": {
      "text/plain": [
       "<AxesSubplot:>"
      ]
     },
     "execution_count": 129,
     "metadata": {},
     "output_type": "execute_result"
    },
    {
     "data": {
      "image/png": "[encoded data removed]",
      "text/plain": [
       "<Figure size 432x288 with 1 Axes>"
      ]
     },
     "metadata": {
      "needs_background": "light"
     },
     "output_type": "display_data"
    }
   ],
   "source": [
    "# Boxplot after normalization\n",
    "sns.boxplot(data = normTrainX)"
   ]
  },
  {
   "cell_type": "code",
   "execution_count": 130,
   "id": "30a200dc",
   "metadata": {
    "id": "30a200dc"
   },
   "outputs": [],
   "source": [
    "# features and target\n",
    "target = data1['Species']\n",
    "features = data1[['Island', 'Bill Length', 'Bill Depth',\n",
    "\n",
    "                       'Flipper Length', 'Body Mass', 'Sex']]"
   ]
  },
  {
   "cell_type": "code",
   "execution_count": 131,
   "id": "16bc6fb0",
   "metadata": {
    "id": "16bc6fb0",
    "outputId": "b1bd5edb-0e44-44cd-e028-a1044c4936d5"
   },
   "outputs": [
    {
     "data": {
      "text/html": [
       "<div>\n",
       "<style scoped>\n",
       "    .dataframe tbody tr th:only-of-type {\n",
       "        vertical-align: middle;\n",
       "    }\n",
       "\n",
       "    .dataframe tbody tr th {\n",
       "        vertical-align: top;\n",
       "    }\n",
       "\n",
       "    .dataframe thead th {\n",
       "        text-align: right;\n",
       "    }\n",
       "</style>\n",
       "<table border=\"1\" class=\"dataframe\">\n",
       "  <thead>\n",
       "    <tr style=\"text-align: right;\">\n",
       "      <th></th>\n",
       "      <th>Island</th>\n",
       "      <th>Bill Length</th>\n",
       "      <th>Bill Depth</th>\n",
       "      <th>Flipper Length</th>\n",
       "      <th>Body Mass</th>\n",
       "      <th>Sex</th>\n",
       "    </tr>\n",
       "  </thead>\n",
       "  <tbody>\n",
       "    <tr>\n",
       "      <th>0</th>\n",
       "      <td>Torgersen</td>\n",
       "      <td>39.1</td>\n",
       "      <td>18.7</td>\n",
       "      <td>181.0</td>\n",
       "      <td>3750.0</td>\n",
       "      <td>male</td>\n",
       "    </tr>\n",
       "    <tr>\n",
       "      <th>1</th>\n",
       "      <td>Torgersen</td>\n",
       "      <td>39.5</td>\n",
       "      <td>17.4</td>\n",
       "      <td>186.0</td>\n",
       "      <td>3800.0</td>\n",
       "      <td>female</td>\n",
       "    </tr>\n",
       "    <tr>\n",
       "      <th>2</th>\n",
       "      <td>Torgersen</td>\n",
       "      <td>40.3</td>\n",
       "      <td>18.0</td>\n",
       "      <td>195.0</td>\n",
       "      <td>3250.0</td>\n",
       "      <td>female</td>\n",
       "    </tr>\n",
       "    <tr>\n",
       "      <th>4</th>\n",
       "      <td>Torgersen</td>\n",
       "      <td>36.7</td>\n",
       "      <td>19.3</td>\n",
       "      <td>193.0</td>\n",
       "      <td>3450.0</td>\n",
       "      <td>female</td>\n",
       "    </tr>\n",
       "    <tr>\n",
       "      <th>5</th>\n",
       "      <td>Torgersen</td>\n",
       "      <td>39.3</td>\n",
       "      <td>20.6</td>\n",
       "      <td>190.0</td>\n",
       "      <td>3650.0</td>\n",
       "      <td>male</td>\n",
       "    </tr>\n",
       "  </tbody>\n",
       "</table>\n",
       "</div>"
      ],
      "text/plain": [
       "      Island  Bill Length  Bill Depth  Flipper Length  Body Mass     Sex\n",
       "0  Torgersen         39.1        18.7           181.0     3750.0    male\n",
       "1  Torgersen         39.5        17.4           186.0     3800.0  female\n",
       "2  Torgersen         40.3        18.0           195.0     3250.0  female\n",
       "4  Torgersen         36.7        19.3           193.0     3450.0  female\n",
       "5  Torgersen         39.3        20.6           190.0     3650.0    male"
      ]
     },
     "execution_count": 131,
     "metadata": {},
     "output_type": "execute_result"
    }
   ],
   "source": [
    "features.head()"
   ]
  },
  {
   "cell_type": "code",
   "execution_count": 132,
   "id": "e3b26fbb",
   "metadata": {
    "id": "e3b26fbb",
    "outputId": "38463762-e43c-41fb-fc4b-8afcfa784aa6"
   },
   "outputs": [
    {
     "data": {
      "text/plain": [
       "0    Adelie\n",
       "1    Adelie\n",
       "2    Adelie\n",
       "4    Adelie\n",
       "5    Adelie\n",
       "Name: Species, dtype: object"
      ]
     },
     "execution_count": 132,
     "metadata": {},
     "output_type": "execute_result"
    }
   ],
   "source": [
    "target.head()"
   ]
  },
  {
   "cell_type": "code",
   "execution_count": 133,
   "id": "2dea8147",
   "metadata": {
    "id": "2dea8147",
    "outputId": "db34a4e5-b7ec-405f-eb84-c7f7417d4d91",
    "scrolled": true
   },
   "outputs": [
    {
     "data": {
      "text/plain": [
       "3"
      ]
     },
     "execution_count": 133,
     "metadata": {},
     "output_type": "execute_result"
    }
   ],
   "source": [
    "# count of unique values in target \n",
    "data1['Species'].nunique()"
   ]
  },
  {
   "cell_type": "code",
   "execution_count": 134,
   "id": "d9d47d61",
   "metadata": {
    "id": "d9d47d61",
    "outputId": "b1bba9d1-5b49-4899-c296-523a1b51fbc5"
   },
   "outputs": [
    {
     "name": "stdout",
     "output_type": "stream",
     "text": [
      "['Adelie' 'Gentoo' 'Chinstrap']\n"
     ]
    }
   ],
   "source": [
    "# unique values in target\n",
    "print(data1['Species'].unique())"
   ]
  },
  {
   "cell_type": "code",
   "execution_count": 135,
   "id": "fdd751f9",
   "metadata": {
    "id": "fdd751f9",
    "outputId": "021eb8c8-883b-4bfb-a174-d7075658ad65"
   },
   "outputs": [],
   "source": [
    "#data1['Species'].nunique()"
   ]
  },
  {
   "cell_type": "code",
   "execution_count": 136,
   "id": "0de10e48",
   "metadata": {
    "id": "0de10e48",
    "outputId": "618906da-d7a1-4090-aad0-d366c8a3f38b"
   },
   "outputs": [],
   "source": [
    "#data1['Species'].unique()"
   ]
  },
  {
   "cell_type": "code",
   "execution_count": 137,
   "id": "f40f9bfb",
   "metadata": {
    "id": "f40f9bfb"
   },
   "outputs": [],
   "source": [
    "# Convert categorical to numerical so we can use it for correlation\n",
    "features = pd.get_dummies(features)\n",
    "target, uniques = pd.factorize(target)"
   ]
  },
  {
   "cell_type": "code",
   "execution_count": 138,
   "id": "f01640cc",
   "metadata": {},
   "outputs": [
    {
     "name": "stdout",
     "output_type": "stream",
     "text": [
      "                  Bill Length  Bill Depth  Flipper Length  Body Mass  \\\n",
      "Bill Length          1.000000   -0.228626        0.653096   0.589451   \n",
      "Bill Depth          -0.228626    1.000000       -0.577792  -0.472016   \n",
      "Flipper Length       0.653096   -0.577792        1.000000   0.872979   \n",
      "Body Mass            0.589451   -0.472016        0.872979   1.000000   \n",
      "Island_Biscoe        0.225174   -0.626230        0.601126   0.623702   \n",
      "Island_Dream         0.032118    0.457326       -0.425459  -0.464666   \n",
      "Island_Torgersen    -0.367821    0.265173       -0.273304  -0.251369   \n",
      "Sex_female          -0.344078   -0.372673       -0.255169  -0.424987   \n",
      "Sex_male             0.344078    0.372673        0.255169   0.424987   \n",
      "\n",
      "                  Island_Biscoe  Island_Dream  Island_Torgersen  Sex_female  \\\n",
      "Bill Length            0.225174      0.032118         -0.367821   -0.344078   \n",
      "Bill Depth            -0.626230      0.457326          0.265173   -0.372673   \n",
      "Flipper Length         0.601126     -0.425459         -0.273304   -0.255169   \n",
      "Body Mass              0.623702     -0.464666         -0.251369   -0.424987   \n",
      "Island_Biscoe          1.000000     -0.749398         -0.396949   -0.009201   \n",
      "Island_Dream          -0.749398      1.000000         -0.310248    0.000673   \n",
      "Island_Torgersen      -0.396949     -0.310248          1.000000    0.012278   \n",
      "Sex_female            -0.009201      0.000673          0.012278    1.000000   \n",
      "Sex_male               0.009201     -0.000673         -0.012278   -1.000000   \n",
      "\n",
      "                  Sex_male  \n",
      "Bill Length       0.344078  \n",
      "Bill Depth        0.372673  \n",
      "Flipper Length    0.255169  \n",
      "Body Mass         0.424987  \n",
      "Island_Biscoe     0.009201  \n",
      "Island_Dream     -0.000673  \n",
      "Island_Torgersen -0.012278  \n",
      "Sex_female       -1.000000  \n",
      "Sex_male          1.000000  \n"
     ]
    },
    {
     "data": {
      "image/png": "[encoded data removed]",
      "text/plain": [
       "<Figure size 1872x1728 with 2 Axes>"
      ]
     },
     "metadata": {
      "needs_background": "light"
     },
     "output_type": "display_data"
    }
   ],
   "source": [
    "# Heatmap using Pearson Correlation\n",
    "plt.figure(figsize=(26,24))\n",
    "cor = features.corr()\n",
    "#print(cor)\n",
    "sns.heatmap(cor, annot=True, cmap=plt.cm.CMRmap_r)\n",
    "plt.show()"
   ]
  },
  {
   "cell_type": "code",
   "execution_count": 139,
   "id": "86d8cc1d",
   "metadata": {},
   "outputs": [
    {
     "name": "stdout",
     "output_type": "stream",
     "text": [
      "{'Island_Dream', 'Island_Biscoe', 'Body Mass', 'Sex_male', 'Flipper Length'}\n"
     ]
    }
   ],
   "source": [
    "# With the following function we can select highly correlated features\n",
    "def correlation(features, threshold):\n",
    "    col_corr = set() #set of all the names of correlated columns\n",
    "    corr_matrix = features.corr()\n",
    "    for i in range(len(corr_matrix.columns)):\n",
    "        for j in range(i):\n",
    "            if abs(corr_matrix.iloc[i, j]) > threshold: #we are interested in absolute coeff value\n",
    "                colname = corr_matrix.columns[i] #getting the name of column\n",
    "                col_corr.add(colname)\n",
    "    return col_corr\n",
    "\n",
    "# Set the threshold to 0.7\n",
    "corr_features = correlation(features, 0.5)\n",
    "len(set(corr_features))\n",
    "\n",
    "# Get columns with high correlation\n",
    "print(corr_features)"
   ]
  },
  {
   "cell_type": "code",
   "execution_count": 140,
   "id": "66cc517a",
   "metadata": {
    "id": "66cc517a",
    "outputId": "015e4a46-7470-4291-a598-19dc354b6fb1"
   },
   "outputs": [
    {
     "name": "stdout",
     "output_type": "stream",
     "text": [
      "Here is what our unique output variables represent\n",
      "Index(['Adelie', 'Gentoo', 'Chinstrap'], dtype='object')\n",
      "Here is the target\n",
      "[0 0 0 0 0 0 0 0 0 0 0 0 0 0 0 0 0 0 0 0 0 0 0 0 0 0 0 0 0 0 0 0 0 0 0 0 0\n",
      " 0 0 0 0 0 0 0 0 0 0 0 0 0 0 0 0 0 0 0 0 0 0 0 0 0 0 0 0 0 0 0 0 0 0 0 0 0\n",
      " 0 0 0 0 0 0 0 0 0 0 0 0 0 0 0 0 0 0 0 0 0 0 0 0 0 0 0 0 0 0 0 0 0 0 0 0 0\n",
      " 0 0 0 0 0 0 0 0 0 0 0 0 0 0 0 0 0 0 0 0 0 0 0 0 0 0 0 0 0 0 0 0 0 0 0 1 1\n",
      " 1 1 1 1 1 1 1 1 1 1 1 1 1 1 1 1 1 1 1 1 1 1 1 1 1 1 1 1 1 1 1 1 1 1 1 1 1\n",
      " 1 1 1 1 1 1 1 1 1 1 1 1 1 1 1 1 1 1 1 1 1 1 1 1 1 1 1 1 1 1 1 1 1 1 1 1 1\n",
      " 1 1 1 1 1 1 1 1 1 1 1 1 1 1 1 1 1 1 1 1 1 1 1 1 1 1 1 1 1 1 1 1 1 1 1 1 1\n",
      " 1 1 1 1 1 1 2 2 2 2 2 2 2 2 2 2 2 2 2 2 2 2 2 2 2 2 2 2 2 2 2 2 2 2 2 2 2\n",
      " 2 2 2 2 2 2 2 2 2 2 2 2 2 2 2 2 2 2 2 2 2 2 2 2 2 2 2 2 2 2 2 2 2 2 2 2 2]\n",
      "Here are our feature variables\n",
      "   Bill Length  Bill Depth  Flipper Length  Body Mass  Island_Biscoe  \\\n",
      "0         39.1        18.7           181.0     3750.0              0   \n",
      "1         39.5        17.4           186.0     3800.0              0   \n",
      "2         40.3        18.0           195.0     3250.0              0   \n",
      "4         36.7        19.3           193.0     3450.0              0   \n",
      "5         39.3        20.6           190.0     3650.0              0   \n",
      "\n",
      "   Island_Dream  Island_Torgersen  Sex_female  Sex_male  \n",
      "0             0                 1           0         1  \n",
      "1             0                 1           1         0  \n",
      "2             0                 1           1         0  \n",
      "4             0                 1           1         0  \n",
      "5             0                 1           0         1  \n"
     ]
    }
   ],
   "source": [
    "print('Here is what our unique output variables represent') \n",
    "print(uniques)\n",
    "print('Here is the target') \n",
    "print(target)\n",
    "print('Here are our feature variables') \n",
    "print(features.head())"
   ]
  },
  {
   "cell_type": "code",
   "execution_count": 141,
   "id": "45dfa0d0",
   "metadata": {
    "id": "45dfa0d0",
    "outputId": "34cdddf0-ff88-4541-f451-edf2f9eec909"
   },
   "outputs": [
    {
     "data": {
      "text/plain": [
       "array([0, 0, 0, 0, 0, 0, 0, 0, 0, 0], dtype=int64)"
      ]
     },
     "execution_count": 141,
     "metadata": {},
     "output_type": "execute_result"
    }
   ],
   "source": [
    "#target[:10]"
   ]
  },
  {
   "cell_type": "code",
   "execution_count": 142,
   "id": "0b762810",
   "metadata": {
    "id": "0b762810",
    "outputId": "4ad16240-bfe3-4865-b37c-14f445545fe5"
   },
   "outputs": [],
   "source": [
    "# split dataset into training and testing dataset\n",
    "x_train, x_test, y_train, y_test = train_test_split(\n",
    "\n",
    "    features, target, test_size=.2)"
   ]
  },
  {
   "cell_type": "code",
   "execution_count": 143,
   "id": "b402f385",
   "metadata": {},
   "outputs": [
    {
     "name": "stdout",
     "output_type": "stream",
     "text": [
      "x_train:  (266, 9)\n",
      "x_test:  (67, 9)\n",
      "y_train:  (266,)\n",
      "y_test:  (67,)\n"
     ]
    }
   ],
   "source": [
    "print('x_train: ', x_train.shape)\n",
    "print('x_test: ', x_test.shape)\n",
    "print('y_train: ', y_train.shape)\n",
    "print('y_test: ', y_test.shape)"
   ]
  },
  {
   "cell_type": "code",
   "execution_count": 144,
   "id": "fe4ca726",
   "metadata": {},
   "outputs": [
    {
     "data": {
      "text/plain": [
       "<AxesSubplot:>"
      ]
     },
     "execution_count": 144,
     "metadata": {},
     "output_type": "execute_result"
    },
    {
     "data": {
      "image/png": "[encoded data removed]",
      "text/plain": [
       "<Figure size 432x288 with 1 Axes>"
      ]
     },
     "metadata": {
      "needs_background": "light"
     },
     "output_type": "display_data"
    }
   ],
   "source": [
    "# Boxplot for to Visualize outlier in data\n",
    "import seaborn as sns\n",
    "sns.boxplot(data = x_train)"
   ]
  },
  {
   "cell_type": "code",
   "execution_count": 145,
   "id": "2b34157b",
   "metadata": {},
   "outputs": [
    {
     "name": "stdout",
     "output_type": "stream",
     "text": [
      "normTrainX (266, 9)\n"
     ]
    }
   ],
   "source": [
    "# Scale using MinMaxScaler\n",
    "from sklearn.preprocessing import MinMaxScaler\n",
    "min_max_scaler = MinMaxScaler().fit(x_train)\n",
    "normTrainX = min_max_scaler.transform(x_train)\n",
    "print('normTrainX', normTrainX.shape)"
   ]
  },
  {
   "cell_type": "code",
   "execution_count": 146,
   "id": "19aed7fb",
   "metadata": {},
   "outputs": [
    {
     "data": {
      "text/plain": [
       "<AxesSubplot:>"
      ]
     },
     "execution_count": 146,
     "metadata": {},
     "output_type": "execute_result"
    },
    {
     "data": {
      "image/png": "[encoded data removed]",
      "text/plain": [
       "<Figure size 432x288 with 1 Axes>"
      ]
     },
     "metadata": {
      "needs_background": "light"
     },
     "output_type": "display_data"
    }
   ],
   "source": [
    "# Boxplot after normalization\n",
    "sns.boxplot(data = normTrainX)"
   ]
  },
  {
   "cell_type": "code",
   "execution_count": 147,
   "id": "df218a7d",
   "metadata": {},
   "outputs": [
    {
     "data": {
      "text/plain": [
       "RandomForestClassifier(random_state=15)"
      ]
     },
     "execution_count": 147,
     "metadata": {},
     "output_type": "execute_result"
    }
   ],
   "source": [
    "# useing RandomForestClassifier \n",
    "rfc = RandomForestClassifier(random_state=15)\n",
    "# fit the model\n",
    "rfc.fit(x_train, y_train)"
   ]
  },
  {
   "cell_type": "code",
   "execution_count": 148,
   "id": "3ff1c806",
   "metadata": {},
   "outputs": [
    {
     "name": "stdout",
     "output_type": "stream",
     "text": [
      "[0 0 1 1 0 1 1 1 1 1 1 1 0 2 0 0 1 0 0 1 1 1 1 0 0 1 1 0 1 2 2 0 2 1 2 1 0\n",
      " 0 2 2 0 2 1 1 0 0 0 0 1 1 0 2 2 0 0 0 0 0 1 1 0 1 1 0 0 0 0]\n"
     ]
    }
   ],
   "source": [
    "# predictions\n",
    "y_pred = rfc.predict(x_test)\n",
    "print(y_pred)"
   ]
  },
  {
   "cell_type": "code",
   "execution_count": 1,
   "id": "5a56b7bb",
   "metadata": {},
   "outputs": [],
   "source": [
    "print(y_test)"
   ]
  },
  {
   "cell_type": "code",
   "execution_count": 150,
   "id": "32d4659c",
   "metadata": {},
   "outputs": [
    {
     "name": "stdout",
     "output_type": "stream",
     "text": [
      "Our accuracy score for this model is 1.0\n"
     ]
    }
   ],
   "source": [
    "# Evaluate the model\n",
    "score = accuracy_score(y_pred, y_test)\n",
    "print('Our accuracy score for this model is {}'.format(score))"
   ]
  },
  {
   "cell_type": "code",
   "execution_count": 151,
   "id": "9aefb027",
   "metadata": {},
   "outputs": [
    {
     "name": "stdout",
     "output_type": "stream",
     "text": [
      "The accuracy is: 100.00%\n"
     ]
    }
   ],
   "source": [
    "# accuracy of the model in percent upto 2 floating points\n",
    "accuracy = accuracy_score(y_test, y_pred)\n",
    "print(f'The accuracy is: {accuracy*100:.2f}%')"
   ]
  },
  {
   "cell_type": "code",
   "execution_count": 152,
   "id": "d7f192a4",
   "metadata": {},
   "outputs": [
    {
     "data": {
      "text/plain": [
       "array([0, 1, 2], dtype=int64)"
      ]
     },
     "execution_count": 152,
     "metadata": {},
     "output_type": "execute_result"
    }
   ],
   "source": [
    "rfc.classes_"
   ]
  },
  {
   "cell_type": "code",
   "execution_count": 153,
   "id": "8956715c",
   "metadata": {},
   "outputs": [
    {
     "data": {
      "image/png": "[encoded data removed]",
      "text/plain": [
       "<Figure size 432x288 with 2 Axes>"
      ]
     },
     "metadata": {
      "needs_background": "light"
     },
     "output_type": "display_data"
    }
   ],
   "source": [
    "# Print the Confusion Matrix such that the cells of the matrix are colored\n",
    "# Build and Display Confusion Matrix\n",
    "# y_test has true target values for test features, \n",
    "# y_pred has predicted target values for test features\n",
    "cm = confusion_matrix(y_test, y_pred, labels=rfc.classes_) \n",
    "disp = ConfusionMatrixDisplay(confusion_matrix=cm, display_labels=rfc.classes_)\n",
    "disp.plot()\n",
    "plt.show()"
   ]
  },
  {
   "cell_type": "code",
   "execution_count": 154,
   "id": "53c270d3",
   "metadata": {},
   "outputs": [
    {
     "name": "stdout",
     "output_type": "stream",
     "text": [
      "              precision    recall  f1-score   support\n",
      "\n",
      "           0       1.00      1.00      1.00        30\n",
      "           1       1.00      1.00      1.00        27\n",
      "           2       1.00      1.00      1.00        10\n",
      "\n",
      "    accuracy                           1.00        67\n",
      "   macro avg       1.00      1.00      1.00        67\n",
      "weighted avg       1.00      1.00      1.00        67\n",
      "\n"
     ]
    }
   ],
   "source": [
    "# Print the Classification Report\n",
    "# y_test has true label / target values for test features, \n",
    "# y_pred has predicted label / target values for test features\n",
    "print(classification_report(y_test, y_pred))"
   ]
  },
  {
   "cell_type": "code",
   "execution_count": 155,
   "id": "d8dc384f",
   "metadata": {},
   "outputs": [
    {
     "name": "stdout",
     "output_type": "stream",
     "text": [
      "67\n"
     ]
    }
   ],
   "source": [
    "# print the number of correctly classified samples\n",
    "\n",
    "# y_test has true label / target values for test features, \n",
    "# y_pred has predicted label / target values for test features\n",
    "print(accuracy_score(y_test, y_pred, normalize=False))"
   ]
  },
  {
   "cell_type": "code",
   "execution_count": 156,
   "id": "4cdcdfa9",
   "metadata": {},
   "outputs": [
    {
     "name": "stdout",
     "output_type": "stream",
     "text": [
      "1.0\n"
     ]
    }
   ],
   "source": [
    "# print the fraction of correctly classified samples\n",
    "\n",
    "# y_test has true label / target values for test features, \n",
    "# y_pred has predicted label / target values for test features\n",
    "print(accuracy_score(y_test, y_pred)) "
   ]
  },
  {
   "cell_type": "code",
   "execution_count": 157,
   "id": "020fd3ba",
   "metadata": {
    "id": "020fd3ba"
   },
   "outputs": [],
   "source": [
    "# save the model in pickle file\n",
    "\n",
    "rf_pickle = open('random_forest_penguin.pickle', 'wb')\n",
    "\n",
    "pickle.dump(rfc, rf_pickle)\n",
    "\n",
    "rf_pickle.close()\n",
    "\n",
    "output_pickle = open('output_penguin.pickle', 'wb')\n",
    "\n",
    "pickle.dump(uniques, output_pickle)\n",
    "\n",
    "output_pickle.close() "
   ]
  },
  {
   "cell_type": "code",
   "execution_count": null,
   "id": "75df7570",
   "metadata": {
    "id": "75df7570"
   },
   "outputs": [],
   "source": []
  }
 ],
 "metadata": {
  "colab": {
   "name": "GroupProject_Nusrat_CreateModel.ipynb",
   "provenance": []
  },
  "kernelspec": {
   "display_name": "Python 3 (ipykernel)",
   "language": "python",
   "name": "python3"
  },
  "language_info": {
   "codemirror_mode": {
    "name": "ipython",
    "version": 3
   },
   "file_extension": ".py",
   "mimetype": "text/x-python",
   "name": "python",
   "nbconvert_exporter": "python",
   "pygments_lexer": "ipython3",
   "version": "3.9.5"
  }
 },
 "nbformat": 4,
 "nbformat_minor": 5
}